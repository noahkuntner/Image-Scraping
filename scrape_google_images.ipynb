{
 "cells": [
  {
   "cell_type": "markdown",
   "metadata": {},
   "source": [
    "### The following code downloads images from Google Chrome and saves\n",
    "The code can be used to create a proprietary dataset for Computer Vision tasks by executing the following tasks:\n",
    "- Opening up a Chrome instance\n",
    "- Looping through Search Results\n",
    "- Saving Images on Local\n",
    "- Followingly, the labeling needs to be done manually\n",
    "\n",
    "##### Requirements:\n",
    "- Selenium (pip install selenium)\n",
    "- Chromedriver (download from https://sites.google.com/chromium.org/driver/)"
   ]
  },
  {
   "cell_type": "markdown",
   "metadata": {},
   "source": [
    "### Script Steps:\n",
    "1. The code creates a folder for the topic of the search e.g. \"Asian Cities\".\n",
    "2. The code creates a subfolder for each search term in a search topic \"Singapore Sights\".\n",
    "3. The code loops through all the image results from a search term.\n",
    "4. The code saves each of the images in a subfolder (max set to 100 for now)\n",
    "5. Download the images in each respective subfolder"
   ]
  },
  {
   "cell_type": "code",
   "execution_count": 3,
   "metadata": {},
   "outputs": [],
   "source": [
    "#Selenium helps you use this executable to automate Chrome\n",
    "from multiprocessing.sharedctypes import Value\n",
    "from selenium import webdriver\n",
    "from selenium.webdriver.common.by import By\n",
    "import requests\n",
    "import io\n",
    "from datetime import datetime as dt\n",
    "from PIL import Image\n",
    "import time\n",
    "import os"
   ]
  },
  {
   "cell_type": "markdown",
   "metadata": {},
   "source": [
    "### Download all necessary images via Google Image Search\n",
    "Steps needing modification before using a personal case:\n",
    "\n",
    "- 1.1.1 - Set up all necessary links for web pages and assign valid labels per search term\n",
    "- 1.1.2 - Run backend code to define how pages are being scraped\n",
    "- 1.1.3 - Download the Images per each search term in the specific subfolder\n"
   ]
  },
  {
   "cell_type": "code",
   "execution_count": 4,
   "metadata": {},
   "outputs": [
    {
     "name": "stderr",
     "output_type": "stream",
     "text": [
      "/var/folders/kd/yktn235s7gl20f77q0x14rbr0000gn/T/ipykernel_50030/3507505421.py:3: DeprecationWarning: executable_path has been deprecated, please pass in a Service object\n",
      "  wd = webdriver.Chrome(executable_path=PATH)\n"
     ]
    }
   ],
   "source": [
    "# Download the driver from chromedriver website for relevant OS i.e. MAC, Windows, Debian, etc.\n",
    "PATH = '/Users/noah_/Documents/Development/chromedriver-mac-arm64/chromedriver'\n",
    "wd = webdriver.Chrome(executable_path=PATH)"
   ]
  },
  {
   "cell_type": "markdown",
   "metadata": {},
   "source": [
    "### Parameters:"
   ]
  },
  {
   "cell_type": "code",
   "execution_count": 5,
   "metadata": {},
   "outputs": [],
   "source": [
    "### Define a name for the general name of the images to be downloaded\n",
    "topic = 'Images Asian Cities'\n",
    "## Set folder destination of download:\n",
    "image_folder = '/Users/noah_/Documents/Development/Images/'\n",
    "## Assign how many images shall be downloaded\n",
    "number_images = 10"
   ]
  },
  {
   "cell_type": "markdown",
   "metadata": {},
   "source": [
    "### 1.1.1 - Add relevant URLs of Search Terms and assign a Label per Search Term"
   ]
  },
  {
   "cell_type": "code",
   "execution_count": 6,
   "metadata": {},
   "outputs": [],
   "source": [
    "### Add to the list each Google Search URL, which needs to be checked\n",
    "google_urls = [\n",
    "                'https://www.google.com/search?sca_esv=555829701&sxsrf=AB5stBi94pwOfebFNdkyHl_WkQCoF398mw:1691742992132&q=singapore+sights&tbm=isch&source=lnms&sa=X&ved=2ahUKEwiypOPgmdSAAxXyyzgGHUoiCD8Q0pQJegQIDhAB&biw=1869&bih=1062&dpr=2.2',\n",
    "                'https://www.google.com/search?q=kuala+lumpur+sights&tbm=isch&ved=2ahUKEwiesdzhmdSAAxV02zgGHcX4BngQ2-cCegQIABAA&oq=kua+sights&gs_lcp=CgNpbWcQARgAMgYIABAHEB46BAgjECc6BQgAEIAEOgYIABAIEB46BwgAEBgQgARQ6wZYthtgmiRoBXAAeACAAbECiAHBBpIBBzYuMi4wLjGYAQCgAQGqAQtnd3Mtd2l6LWltZ8ABAQ&sclient=img&ei=EvPVZJ7gBvS24-EPxfGbwAc&bih=1062&biw=1869',\n",
    "                'https://www.google.com/search?q=Manila+Sights&tbm=isch&ved=2ahUKEwj0qaT5m9SAAxWG5TgGHYuADnUQ2-cCegQIABAA&oq=Manila+Sights&gs_lcp=CgNpbWcQAzIFCAAQgAQyBQgAEIAEMgYIABAIEB4yBggAEAgQHjIHCAAQGBCABDIHCAAQGBCABDIHCAAQGBCABDIHCAAQGBCABDIHCAAQGBCABFCoA1ioA2DSCGgAcAB4AIABMogBY5IBATKYAQCgAQGqAQtnd3Mtd2l6LWltZ8ABAQ&sclient=img&ei=XPXVZPSLGIbL4-EPi4G6qAc&bih=1062&biw=1869',\n",
    "                'https://www.google.com/search?q=Shanghai+Sights&tbm=isch&ved=2ahUKEwiv3ab6m9SAAxWsm2MGHWEICI8Q2-cCegQIABAA&oq=Shanghai+Sights&gs_lcp=CgNpbWcQAzIFCAAQgAQyBQgAEIAEMgYIABAIEB4yBwgAEBgQgAQyBwgAEBgQgAQyBwgAEBgQgAQyBwgAEBgQgAQ6BAgjECdQ7gRY7gRgjAloAHAAeACAATuIAXCSAQEymAEAoAEBqgELZ3dzLXdpei1pbWfAAQE&sclient=img&ei=XvXVZK-2IKy3juMP4ZCg-Ag&bih=1062&biw=1869',\n",
    "                'https://www.google.com/search?q=Tokyo+Sights&tbm=isch&ved=2ahUKEwjmpcGAnNSAAxWT6DgGHfYNCcYQ2-cCegQIABAA&oq=Tokyo+Sights&gs_lcp=CgNpbWcQAzIHCAAQigUQQzIFCAAQgAQyBQgAEIAEMgUIABCABDIFCAAQgAQyBggAEAgQHjIGCAAQCBAeMgcIABAYEIAEMgcIABAYEIAEMgcIABAYEIAEOgQIIxAnULgHWLgHYNMKaABwAHgAgAF4iAG-AZIBAzEuMZgBAKABAaoBC2d3cy13aXotaW1nwAEB&sclient=img&ei=a_XVZKbEIZPR4-EP9puksAw&bih=1062&biw=1869',\n",
    "                'https://www.google.com/search?sca_esv=555829701&sxsrf=AB5stBiWXjtNyphCmlYcquuR6WqgExPC6g:1691743624189&q=Seoul+Sights&tbm=isch&source=lnms&sa=X&ved=2ahUKEwiW2ZSOnNSAAxU42DgGHe0vBHgQ0pQJegQIBhAB&biw=1869&bih=1062&dpr=2.2',\n",
    "                'https://www.google.com/search?sca_esv=555829701&sxsrf=AB5stBhfUURmmsiuqSM5gvZfxTKxBMr4DA:1691743638136&q=Osaka+Sights&tbm=isch&source=lnms&sa=X&ved=2ahUKEwjTmeiUnNSAAxUs7TgGHU9oDC0Q0pQJegQIDBAB&biw=1869&bih=1062&dpr=2.2',\n",
    "                'https://www.google.com/search?q=Kyoto+Sights&tbm=isch&ved=2ahUKEwjngt2VnNSAAxWlpekKHboDA3kQ2-cCegQIABAA&oq=Kyoto+Sights&gs_lcp=CgNpbWcQAzIHCAAQigUQQzIFCAAQgAQyBQgAEIAEMgYIABAIEB4yBggAEAgQHjIHCAAQGBCABDIHCAAQGBCABDIHCAAQGBCABDIHCAAQGBCABDIHCAAQGBCABDoECCMQJzoGCAAQBxAeOggIABAFEAcQHjoICAAQCBAHEB5QjwZY_yJgziRoCXAAeACAAaQBiAHHBpIBAzkuMpgBAKABAaoBC2d3cy13aXotaW1nwAEB&sclient=img&ei=mPXVZOfWAqXLpge6h4zIBw&bih=1062&biw=1869',\n",
    "                'https://www.google.com/search?q=Jakarta+Sights&tbm=isch&ved=2ahUKEwizxq2anNSAAxXQ_zgGHXPKAYsQ2-cCegQIABAA&oq=Jakarta+Sights&gs_lcp=CgNpbWcQAzIFCAAQgAQyBQgAEIAEMgcIABAYEIAEMgcIABAYEIAEMgcIABAYEIAEMgcIABAYEIAEOgQIIxAnOgYIABAIEB5QkQVYkQVgpwhoAHAAeACAAbsBiAHHApIBAzAuMpgBAKABAaoBC2d3cy13aXotaW1nwAEB&sclient=img&ei=ofXVZPPxLdD_4-EP85SH2Ag&bih=1062&biw=1869',\n",
    "                'https://www.google.com/search?q=Sydney+Sights&tbm=isch&ved=2ahUKEwiK8omvnNSAAxWUz6ACHbWXDKMQ2-cCegQIABAA&oq=Sydney+Sights&gs_lcp=CgNpbWcQAzIFCAAQgAQyBQgAEIAEMgUIABCABDIFCAAQgAQyBggAEAgQHjIGCAAQCBAeMgcIABAYEIAEMgcIABAYEIAEMgcIABAYEIAEMgcIABAYEIAEOgQIIxAnUNkCWNkCYM8FaABwAHgAgAFIiAGNAZIBATKYAQCgAQGqAQtnd3Mtd2l6LWltZ8ABAQ&sclient=img&ei=zfXVZMrXDJSfg8UPta-ymAo&bih=1062&biw=1869',\n",
    "                'https://www.google.com/search?q=Auckland+Sights&tbm=isch&ved=2ahUKEwiCxay1nNSAAxV8yjgGHaufDaIQ2-cCegQIABAA&oq=Auckland+Sights&gs_lcp=CgNpbWcQAzIECCMQJzIFCAAQgAQyBQgAEIAEMgUIABCABDIGCAAQCBAeMgYIABAIEB4yBwgAEBgQgAQyBwgAEBgQgAQyBwgAEBgQgAQyBwgAEBgQgARQrwNYrwNg5gZoAHAAeACAAZ4CiAGeApIBAzItMZgBAKABAaoBC2d3cy13aXotaW1nwAEB&sclient=img&ei=2vXVZILwFfyU4-EPq7-2kAo&bih=1062&biw=1869',\n",
    "                'https://www.google.com/search?q=Beijing+Sights&tbm=isch&ved=2ahUKEwiKur3AnNSAAxXv6DgGHZy-AHQQ2-cCegQIABAA&oq=Beijing+Sights&gs_lcp=CgNpbWcQAzIECCMQJzIFCAAQgAQyBwgAEBgQgAQyBwgAEBgQgAQyBwgAEBgQgAQyBwgAEBgQgAQyBwgAEBgQgAQyBwgAEBgQgARQ9gJY9gJgtAZoAHAAeACAAT-IAT-SAQExmAEAoAEBqgELZ3dzLXdpei1pbWfAAQE&sclient=img&ei=8fXVZMr9Ku_R4-EPnP2CoAc&bih=1062&biw=1869',\n",
    "                'https://www.google.com/search?q=Mumbai+Sights&tbm=isch&ved=2ahUKEwikjfbGnNSAAxU15TgGHQ2dCIYQ2-cCegQIABAA&oq=Mumbai+Sights&gs_lcp=CgNpbWcQAzIFCAAQgAQyBQgAEIAEMgUIABCABDIHCAAQGBCABDIHCAAQGBCABDIHCAAQGBCABDIHCAAQGBCABDIHCAAQGBCABDIHCAAQGBCABDIHCAAQGBCABDoECCMQJ1DYA1jYA2D5CWgAcAB4AIAB0wGIAYoCkgEFMS4wLjGYAQCgAQGqAQtnd3Mtd2l6LWltZ8ABAQ&sclient=img&ei=__XVZOSRDbXK4-EPjbqisAg&bih=1062&biw=1869',\n",
    "                'https://www.google.com/search?q=Guangzhou+Sights&tbm=isch&ved=2ahUKEwjEjb_PnNSAAxV1oWMGHfWpAowQ2-cCegQIABAA&oq=Guangzhou+Sights&gs_lcp=CgNpbWcQAzIFCAAQgAQyBQgAEIAEMgUIABCABDIHCAAQGBCABDIHCAAQGBCABDoECCMQJ1C9A1i9A2CoCmgAcAB4AIABdYgBrAGSAQMxLjGYAQCgAQGqAQtnd3Mtd2l6LWltZ8ABAQ&sclient=img&ei=EfbVZITBC_XCjuMP9dOK4Ag&bih=1062&biw=1869',\n",
    "                'https://www.google.com/search?q=Delhi+Sights&tbm=isch&ved=2ahUKEwjytOHznNSAAxXa5TgGHXZhBWMQ2-cCegQIABAA&oq=Delhi+Sights&gs_lcp=CgNpbWcQAzIHCAAQigUQQzIFCAAQgAQyBQgAEIAEMgYIABAFEB4yBggAEAgQHjIGCAAQBRAeMgcIABAYEIAEMgcIABAYEIAEMgcIABAYEIAEMgcIABAYEIAEOgQIIxAnUJYEWJYEYL4HaABwAHgAgAFhiAGnAZIBATKYAQCgAQGqAQtnd3Mtd2l6LWltZ8ABAQ&sclient=img&ei=XfbVZLKSD9rL4-EP9sKVmAY&bih=1062&biw=1869',\n",
    "                'https://www.google.com/search?q=Dhaka+Sights&tbm=isch&ved=2ahUKEwis6tn8nNSAAxW67DgGHemzD8QQ2-cCegQIABAA&oq=Dhaka+Sights&gs_lcp=CgNpbWcQAzIHCAAQGBCABDIHCAAQGBCABDIHCAAQGBCABDIHCAAQGBCABDoECCMQJzoFCAAQgAQ6BggAEAUQHjoGCAAQCBAeOgYIABAHEB5Q4wZY4wZgxA1oAHAAeACAAXmIAakBkgEDMS4xmAEAoAEBqgELZ3dzLXdpei1pbWfAAQE&sclient=img&ei=b_bVZOz2PLrZ4-EP6ee-oAw&bih=1062&biw=1869'\n",
    "]\n",
    "\n",
    "# Add Labels for each Category\n",
    "labels = [\n",
    "    # 0 - \n",
    "    'Singapore Sights',\n",
    "    # 1 - \n",
    "    'Kuala Lumpur Sights', \n",
    "    # 2 - \n",
    "    'Manila Sights', \n",
    "    # 3 - \n",
    "    'Shanghai Sights', \n",
    "    # 4 - \n",
    "    'Tokyo Sights',\n",
    "    # 5 - \n",
    "    'Seoul Sights', \n",
    "    # 6 - \n",
    "    'Osaka Sights',\n",
    "    # 7 - \n",
    "    'Kyoto Sights', \n",
    "    # 8 - \n",
    "    'Jakarta Sights',\n",
    "    # 9 - \n",
    "    'Sydney Sights', \n",
    "    # 10 - \n",
    "    'Auckland Sights',\n",
    "    # 11 - \n",
    "    'Beijing Sights',\n",
    "    # 12 - \n",
    "    'Mumbai Sights',\n",
    "    # 13 - \n",
    "    'Guangzhou Sights',\n",
    "    # 14 - \n",
    "    'Delhi Sights',\n",
    "    # 15 - \n",
    "    'Dhaka Sights'\n",
    "]"
   ]
  },
  {
   "cell_type": "markdown",
   "metadata": {},
   "source": [
    "### 1.1.2 - Set up the code to find each image in a webpage"
   ]
  },
  {
   "cell_type": "code",
   "execution_count": 7,
   "metadata": {},
   "outputs": [],
   "source": [
    "### Find all Images per each search term\n",
    "\n",
    "def get_images_from_google(wd, delay, max_images, url):\n",
    "\tdef scroll_down(wd):\n",
    "\t\twd.execute_script(\"window.scrollTo(0, document.body.scrollHeight);\")\n",
    "\t\ttime.sleep(delay)\n",
    "\n",
    "\turl = url\n",
    "\twd.get(url)\n",
    "\n",
    "\timage_urls = set()\n",
    "\tskips = 0\n",
    "\twhile len(image_urls) + skips < max_images:\n",
    "\t\tscroll_down(wd)\n",
    "\t\tthumbnails = wd.find_elements(By.CLASS_NAME, \"Q4LuWd\")\n",
    "\n",
    "\t\tfor img in thumbnails[len(image_urls) + skips:max_images]:\n",
    "\t\t\ttry:\n",
    "\t\t\t\timg.click()\n",
    "                ## Improvement in time sleep until the optimal quality of the image is visible \n",
    "\t\t\t\ttime.sleep(delay)\n",
    "\t\t\texcept:\n",
    "\t\t\t\tcontinue\n",
    "\n",
    "\t\t\tprint(len(image_urls))\n",
    "\t\t\timages = wd.find_elements(By.CLASS_NAME, \"VQAsE\")\n",
    "\t\t\tprint('Images', images)\n",
    "\t\t\tfor image in images:\n",
    "\t\t\t\tif image.get_attribute('src') in image_urls:\n",
    "\t\t\t\t\tmax_images += 1\n",
    "\t\t\t\t\tskips += 1\n",
    "\t\t\t\t\tbreak  \n",
    "                    \n",
    "                ### Checks if image exists and whether the link has a http:\n",
    "\t\t\t\tif image.get_attribute('src') and 'http' in image.get_attribute('src'):\n",
    "\t\t\t\t\timage_urls.add(image.get_attribute('src'))\n",
    "                        \n",
    "                # print(f\"Found {len(image_urls)}\")\n",
    "\treturn image_urls\n",
    "\n",
    "### Function to save images with current time\n",
    "def download_image(down_path, url, file_name, image_type='JPEG',\n",
    "                   verbose=True):\n",
    "    try:\n",
    "        time = dt.now()\n",
    "        curr_time = time.strftime('%H:%M:%S')\n",
    "        #Content of the image will be a url\n",
    "        img_content = requests.get(url).content\n",
    "        #Get the bytes IO of the image\n",
    "        img_file = io.BytesIO(img_content)\n",
    "        #Stores the file in memory and convert to image file using Pillow\n",
    "        image = Image.open(img_file)\n",
    "        file_pth = down_path + file_name\n",
    "\n",
    "        with open(file_pth, 'wb') as file:\n",
    "            image.save(file, image_type)\n",
    "\n",
    "        if verbose == True:\n",
    "            print(f'The image: {file_pth} downloaded successfully at {curr_time}.')\n",
    "    except Exception as e:\n",
    "        print(f'Unable to download image from Google Photos due to\\n: {str(e)}')"
   ]
  },
  {
   "cell_type": "markdown",
   "metadata": {},
   "source": [
    "### 1.1.3 - Download the Images to the folders"
   ]
  },
  {
   "cell_type": "code",
   "execution_count": null,
   "metadata": {},
   "outputs": [],
   "source": [
    "if __name__ == '__main__':\n",
    "    # Google search URLS\n",
    "    \n",
    "    # Check the length of the lists\n",
    "    if len(google_urls) != len(labels):\n",
    "        raise ValueError('The length of the url list does not match the labels list.')\n",
    "\n",
    "    image_path = image_folder + f'{topic}'\n",
    "    # Make the directory if it doesn't exist\n",
    "    for lbl in labels:\n",
    "        if not os.path.exists(image_path + '/' + lbl):\n",
    "            print(f'Making directory: {str(lbl)}')\n",
    "            os.makedirs(image_path + '/' + lbl)\n",
    "        else:\n",
    "            continue\n",
    "    print('Next Step \\n')\n",
    "    for url_current, lbl in zip(google_urls, labels):\n",
    "        urls = get_images_from_google(wd, 0, number_images, url_current)\n",
    "        # Once we have added our urls to empty set then \n",
    "        print('Downloading Images \\n')\n",
    "        for i, url in enumerate(urls):\n",
    "            print(i)\n",
    "            download_image(down_path= image_folder + f'/{topic}/{lbl}/', \n",
    "                        url=url, \n",
    "                        file_name=str(i+1)+ '.jpg',\n",
    "                        verbose=True)\n",
    "\n",
    "            print('Image saved from category: ', lbl, 'via URL: ', url)\n",
    "    wd.quit()"
   ]
  },
  {
   "cell_type": "markdown",
   "metadata": {},
   "source": [
    "### Notes:\n",
    "- If the code stops it might be due to a timeout issue, it might be recommended to the rerun the script separately for each search term.\n",
    "- The script can be amended to not display the Chromedriver browser window -> this would improve the performance of the script"
   ]
  }
 ],
 "metadata": {
  "kernelspec": {
   "display_name": "Python 3.9.13 ('base')",
   "language": "python",
   "name": "python3"
  },
  "language_info": {
   "codemirror_mode": {
    "name": "ipython",
    "version": 3
   },
   "file_extension": ".py",
   "mimetype": "text/x-python",
   "name": "python",
   "nbconvert_exporter": "python",
   "pygments_lexer": "ipython3",
   "version": "3.9.13"
  },
  "orig_nbformat": 4,
  "vscode": {
   "interpreter": {
    "hash": "ad8535ebbc44b7f0076d687444565c52cd17b91738cf4516a37faf98e1a1dccf"
   }
  }
 },
 "nbformat": 4,
 "nbformat_minor": 2
}
